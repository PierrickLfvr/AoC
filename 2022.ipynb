{
 "cells": [
  {
   "cell_type": "code",
   "execution_count": 1,
   "id": "a7b0e4c3",
   "metadata": {},
   "outputs": [
    {
     "name": "stdout",
     "output_type": "stream",
     "text": [
      "DAY 1 : Calorie counting\n",
      "71124\n",
      "204639\n"
     ]
    }
   ],
   "source": [
    "import numpy as np\n",
    "print(\"DAY 1 : Calorie counting\")\n",
    "\n",
    "elves = []\n",
    "calories = 0\n",
    "for line in open(\"inputs_2022/1.txt\"):\n",
    "    if line == \"\\n\":\n",
    "        elves.append(calories)\n",
    "        calories = 0\n",
    "    else:\n",
    "        calories += int(line.split(\"\\n\")[0])\n",
    "print(np.max(elves))\n",
    "print(np.sum(np.sort(elves)[-3:]))"
   ]
  },
  {
   "cell_type": "code",
   "execution_count": 2,
   "id": "33671351",
   "metadata": {},
   "outputs": [
    {
     "name": "stdout",
     "output_type": "stream",
     "text": [
      "DAY 2 : Rock Paper Scissors\n",
      "Part 1:  8890\n",
      "Part 2:  10238\n"
     ]
    }
   ],
   "source": [
    "print(\"DAY 2 : Rock Paper Scissors\")\n",
    "\n",
    "rounds = []\n",
    "\n",
    "for line in open(\"inputs_2022/2.txt\"):\n",
    "    rounds.append(line.split(\"\\n\")[0].split(\" \"))\n",
    "\n",
    "points = {\"X\":1, \"Y\":2, \"Z\":3}\n",
    "wins = {\"A\" : \"Y\", \"B\" : \"Z\", \"C\": \"X\"}\n",
    "draws = {\"A\": \"X\", \"B\": \"Y\", \"C\": \"Z\"}\n",
    "loss = {\"A\": \"Z\", \"B\": \"X\", \"C\": \"Y\"}\n",
    "strats = {\"X\" : loss, \"Y\" : draws, \"Z\" : wins}\n",
    "\n",
    "rounds_int = []\n",
    "for rnd in rounds:\n",
    "    curr_round = []\n",
    "    for letter in rnd:\n",
    "        if letter == \"A\" or letter == \"X\":\n",
    "            curr_round.append(0)\n",
    "        elif letter == \"B\" or letter == \"Y\":\n",
    "            curr_round.append(1)\n",
    "        elif letter == \"C\" or letter == \"Z\":\n",
    "            curr_round.append(2)\n",
    "\n",
    "    rounds_int.append(curr_round)\n",
    "\n",
    "total_points = 0\n",
    "for rnd in rounds_int:\n",
    "    opp, move = rnd\n",
    "    total_points += move+1 + ((move-opp+1)%3) *3\n",
    "\n",
    "print(\"Part 1: \", total_points)\n",
    "\n",
    "total_points = 0\n",
    "for rnd in rounds:\n",
    "    opp, strat = rnd\n",
    "    total_points += points[strats[strat][opp]] + 3 * (points[strat] - 1)\n",
    "\n",
    "print(\"Part 2: \", total_points)"
   ]
  },
  {
   "cell_type": "code",
   "execution_count": 3,
   "id": "080be0a6",
   "metadata": {},
   "outputs": [
    {
     "name": "stdout",
     "output_type": "stream",
     "text": [
      "DAY 3 : \n",
      "Part 1 :  8039\n",
      "Part 2 :  2510\n"
     ]
    }
   ],
   "source": [
    "print(\"DAY 3 : \")\n",
    "\n",
    "def priority(c):\n",
    "    asc = ord(c)\n",
    "    if asc <= 90:\n",
    "        return asc-38\n",
    "    else:\n",
    "        return asc - 96\n",
    "\n",
    "rucksacks = []\n",
    "\n",
    "for line in open(\"inputs_2022/3.txt\"):\n",
    "    rucksacks.append(line.split(\"\\n\")[0])\n",
    "\n",
    "total = 0\n",
    "for s in rucksacks:\n",
    "    len_compartment = int(len(s)/2)\n",
    "    total += priority(list(set(s[:len_compartment])&set(s[-len_compartment:]))[0])\n",
    "print(\"Part 1 : \", total)\n",
    "\n",
    "total = 0\n",
    "for i in range(len(rucksacks)//3):\n",
    "    total+= priority(list(set(rucksacks[i*3])&set(rucksacks[i*3+1])&set(rucksacks[i*3+2]))[0])\n",
    "print(\"Part 2 : \", total)"
   ]
  },
  {
   "cell_type": "code",
   "execution_count": 4,
   "id": "01e87cf3",
   "metadata": {},
   "outputs": [
    {
     "name": "stdout",
     "output_type": "stream",
     "text": [
      "DAY 4 : Camp Cleanup\n",
      "Part 1 :  576\n",
      "Part 2 :  905\n"
     ]
    }
   ],
   "source": [
    "print(\"DAY 4 : Camp Cleanup\")\n",
    "\n",
    "pairs = []\n",
    "\n",
    "for line in open(\"inputs_2022/4.txt\"):\n",
    "    pairs.append([np.array(r.split(\"-\"), dtype=int) for r in line.split(\"\\n\")[0].split(\",\")])\n",
    "\n",
    "total = 0\n",
    "total2 = 0\n",
    "for pair in pairs:\n",
    "    elf0, elf1 = pair\n",
    "    if (elf0[0] <= elf1[0] and elf0[1] >= elf1[1]) or (elf1[0] <= elf0[0] and elf1[1] >= elf0[1]):\n",
    "        total+=1\n",
    "    if (elf0[0] <= elf1[1] and elf0[1] >= elf1[1]) or (elf1[0] <= elf0[1] and elf1[1] >= elf0[1]):\n",
    "        total2+=1\n",
    "print(\"Part 1 : \", total)\n",
    "print(\"Part 2 : \", total2)"
   ]
  },
  {
   "cell_type": "code",
   "execution_count": 14,
   "id": "3893b4c7",
   "metadata": {},
   "outputs": [
    {
     "name": "stdout",
     "output_type": "stream",
     "text": [
      "DAY 5 : Supply Stacks\n",
      "['ZTFRWJG', 'GWM', 'JNHG', 'JRCNW', 'WFSBGQVM', 'SRTDVWC', 'HBNCDZGV', 'SJNMGC', 'GPNWCJDL']\n",
      "Part 1 :  CWMTGHBDW\n",
      "Part 2 :  SSCGWJCRB\n"
     ]
    }
   ],
   "source": [
    "print(\"DAY 5 : Supply Stacks\")\n",
    "\n",
    "stacks_input = [\"ZTFRWJG\",\n",
    "          \"GWM\",\n",
    "          \"JNHG\",\n",
    "          \"JRCNW\",\n",
    "          \"WFSBGQVM\",\n",
    "          \"SRTDVWC\",\n",
    "          \"HBNCDZGV\",\n",
    "          \"SJNMGC\",\n",
    "          \"GPNWCJDL\"]\n",
    "stacks_parser = [\"\" for i in range(9)]\n",
    "moves = []\n",
    "move_parser = False\n",
    "for line in open(\"inputs_2022/5.txt\"):\n",
    "    if line == \"\\n\":\n",
    "        move_parser = True\n",
    "    elif not move_parser:\n",
    "        for i, c in enumerate(line):\n",
    "            if c == \"[\":\n",
    "                stacks_parser[i//4]+=line[i+1]\n",
    "    elif move_parser:\n",
    "        amount = int(line.split(\"from\")[0].split(\"move\")[1])\n",
    "        source = int(line.split(\"to\")[0].split(\"from\")[1]) - 1\n",
    "        dest = int(line.split(\"\\n\")[0].split(\"to\")[1]) - 1\n",
    "        moves.append([amount,source,dest])\n",
    "for i in range(len(stacks_parser)):\n",
    "    stacks_parser[i] = stacks_parser[i][::-1]\n",
    "    \n",
    "stacks = stacks_parser.copy()\n",
    "stacks2 = stacks_parser.copy()\n",
    "for move in moves:\n",
    "    stacks[move[2]] += stacks[move[1]][-move[0]:][::-1]\n",
    "    stacks[move[1]] = stacks[move[1]][:-move[0]]\n",
    "    stacks2[move[2]] += stacks2[move[1]][-move[0]:]\n",
    "    stacks2[move[1]] = stacks2[move[1]][:-move[0]]\n",
    "\n",
    "code, code2 = \"\", \"\"\n",
    "for stack, stack2 in zip(stacks, stacks2):\n",
    "    code+=stack[-1]\n",
    "    code2+=stack2[-1]\n",
    "print(\"Part 1 : \", code)\n",
    "print(\"Part 2 : \", code2)"
   ]
  },
  {
   "cell_type": "code",
   "execution_count": null,
   "id": "24e67701",
   "metadata": {},
   "outputs": [],
   "source": []
  }
 ],
 "metadata": {
  "kernelspec": {
   "display_name": "Python 3 (ipykernel)",
   "language": "python",
   "name": "python3"
  },
  "language_info": {
   "codemirror_mode": {
    "name": "ipython",
    "version": 3
   },
   "file_extension": ".py",
   "mimetype": "text/x-python",
   "name": "python",
   "nbconvert_exporter": "python",
   "pygments_lexer": "ipython3",
   "version": "3.9.2"
  }
 },
 "nbformat": 4,
 "nbformat_minor": 5
}
