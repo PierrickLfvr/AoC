{
 "cells": [
  {
   "cell_type": "code",
   "execution_count": 5,
   "id": "a7b0e4c3",
   "metadata": {},
   "outputs": [
    {
     "name": "stdout",
     "output_type": "stream",
     "text": [
      "DAY 1 : Calorie counting\n",
      "71124\n",
      "204639\n"
     ]
    }
   ],
   "source": [
    "import numpy as np\n",
    "print(\"DAY 1 : Calorie counting\")\n",
    "\n",
    "elves = []\n",
    "calories = 0\n",
    "for line in open(\"inputs_2022/1.txt\"):\n",
    "    if line == \"\\n\":\n",
    "        elves.append(calories)\n",
    "        calories = 0\n",
    "    else:\n",
    "        calories += int(line.split(\"\\n\")[0])\n",
    "print(np.max(elves))\n",
    "print(np.sum(np.sort(elves)[-3:]))"
   ]
  },
  {
   "cell_type": "code",
   "execution_count": 11,
   "id": "33671351",
   "metadata": {},
   "outputs": [
    {
     "name": "stdout",
     "output_type": "stream",
     "text": [
      "DAY 2 : Rock Paper Scissors\n",
      "Part 1:  8890\n",
      "Part 2:  10238\n"
     ]
    }
   ],
   "source": [
    "print(\"DAY 2 : Rock Paper Scissors\")\n",
    "\n",
    "rounds = []\n",
    "\n",
    "for line in open(\"inputs_2022/2.txt\"):\n",
    "    rounds.append(line.split(\"\\n\")[0].split(\" \"))\n",
    "\n",
    "points = {\"X\":1, \"Y\":2, \"Z\":3}\n",
    "wins = {\"A\" : \"Y\", \"B\" : \"Z\", \"C\": \"X\"}\n",
    "draws = {\"A\": \"X\", \"B\": \"Y\", \"C\": \"Z\"}\n",
    "loss = {\"A\": \"Z\", \"B\": \"X\", \"C\": \"Y\"}\n",
    "\n",
    "total_points = 0\n",
    "for rnd in rounds:\n",
    "    total_points+=points[rnd[1]]\n",
    "    if wins[rnd[0]] == rnd[1]:\n",
    "        total_points += 6\n",
    "    elif draws[rnd[0]] == rnd[1]:\n",
    "        total_points += 3\n",
    "        \n",
    "print(\"Part 1: \", total_points)\n",
    "\n",
    "total_points = 0\n",
    "for rnd in rounds:\n",
    "    opp, strat = rnd\n",
    "    if strat == \"X\":\n",
    "        #Lose\n",
    "        total_points += points[loss[opp]]\n",
    "    elif strat == \"Y\":\n",
    "        #draw\n",
    "        total_points += points[draws[opp]]\n",
    "        total_points += 3\n",
    "    else:\n",
    "        total_points += points[wins[opp]]\n",
    "        total_points += 6\n",
    "\n",
    "print(\"Part 2: \", total_points)"
   ]
  },
  {
   "cell_type": "code",
   "execution_count": null,
   "id": "42d0b970",
   "metadata": {},
   "outputs": [],
   "source": []
  }
 ],
 "metadata": {
  "kernelspec": {
   "display_name": "Python 3 (ipykernel)",
   "language": "python",
   "name": "python3"
  },
  "language_info": {
   "codemirror_mode": {
    "name": "ipython",
    "version": 3
   },
   "file_extension": ".py",
   "mimetype": "text/x-python",
   "name": "python",
   "nbconvert_exporter": "python",
   "pygments_lexer": "ipython3",
   "version": "3.9.2"
  }
 },
 "nbformat": 4,
 "nbformat_minor": 5
}
