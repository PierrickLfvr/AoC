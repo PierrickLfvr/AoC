{
 "cells": [
  {
   "cell_type": "code",
   "execution_count": 1,
   "id": "a7b0e4c3",
   "metadata": {},
   "outputs": [
    {
     "name": "stdout",
     "output_type": "stream",
     "text": [
      "DAY 1 : Calorie counting\n",
      "71124\n",
      "204639\n"
     ]
    }
   ],
   "source": [
    "import numpy as np\n",
    "print(\"DAY 1 : Calorie counting\")\n",
    "\n",
    "elves = []\n",
    "calories = 0\n",
    "for line in open(\"inputs_2022/1.txt\"):\n",
    "    if line == \"\\n\":\n",
    "        elves.append(calories)\n",
    "        calories = 0\n",
    "    else:\n",
    "        calories += int(line.split(\"\\n\")[0])\n",
    "print(np.max(elves))\n",
    "print(np.sum(np.sort(elves)[-3:]))"
   ]
  },
  {
   "cell_type": "code",
   "execution_count": 2,
   "id": "33671351",
   "metadata": {},
   "outputs": [
    {
     "name": "stdout",
     "output_type": "stream",
     "text": [
      "DAY 2 : Rock Paper Scissors\n",
      "Part 1:  8890\n",
      "Part 2:  10238\n"
     ]
    }
   ],
   "source": [
    "print(\"DAY 2 : Rock Paper Scissors\")\n",
    "\n",
    "rounds = []\n",
    "\n",
    "for line in open(\"inputs_2022/2.txt\"):\n",
    "    rounds.append(line.split(\"\\n\")[0].split(\" \"))\n",
    "\n",
    "points = {\"X\":1, \"Y\":2, \"Z\":3}\n",
    "wins = {\"A\" : \"Y\", \"B\" : \"Z\", \"C\": \"X\"}\n",
    "draws = {\"A\": \"X\", \"B\": \"Y\", \"C\": \"Z\"}\n",
    "loss = {\"A\": \"Z\", \"B\": \"X\", \"C\": \"Y\"}\n",
    "strats = {\"X\" : loss, \"Y\" : draws, \"Z\" : wins}\n",
    "\n",
    "rounds_int = []\n",
    "for rnd in rounds:\n",
    "    curr_round = []\n",
    "    for letter in rnd:\n",
    "        if letter == \"A\" or letter == \"X\":\n",
    "            curr_round.append(0)\n",
    "        elif letter == \"B\" or letter == \"Y\":\n",
    "            curr_round.append(1)\n",
    "        elif letter == \"C\" or letter == \"Z\":\n",
    "            curr_round.append(2)\n",
    "\n",
    "    rounds_int.append(curr_round)\n",
    "\n",
    "total_points = 0\n",
    "for rnd in rounds_int:\n",
    "    opp, move = rnd\n",
    "    total_points += move+1 + ((move-opp+1)%3) *3\n",
    "\n",
    "print(\"Part 1: \", total_points)\n",
    "\n",
    "total_points = 0\n",
    "for rnd in rounds:\n",
    "    opp, strat = rnd\n",
    "    total_points += points[strats[strat][opp]] + 3 * (points[strat] - 1)\n",
    "\n",
    "print(\"Part 2: \", total_points)"
   ]
  },
  {
   "cell_type": "code",
   "execution_count": 3,
   "id": "90103a17",
   "metadata": {},
   "outputs": [
    {
     "name": "stdout",
     "output_type": "stream",
     "text": [
      "DAY 3 : Rucksack Reorganization\n",
      "Part 1 :  8039\n",
      "Part 2 :  2510\n"
     ]
    }
   ],
   "source": [
    "print(\"DAY 3 : Rucksack Reorganization\")\n",
    "\n",
    "def priority(c):\n",
    "    asc = ord(c)\n",
    "    if asc <= 90:\n",
    "        return asc-38\n",
    "    else:\n",
    "        return asc - 96\n",
    "\n",
    "rucksacks = []\n",
    "\n",
    "for line in open(\"inputs_2022/3.txt\"):\n",
    "    rucksacks.append(line.split(\"\\n\")[0])\n",
    "\n",
    "total = 0\n",
    "for s in rucksacks:\n",
    "    len_compartment = int(len(s)/2)\n",
    "    total += priority(list(set(s[:len_compartment])&set(s[-len_compartment:]))[0])\n",
    "print(\"Part 1 : \", total)\n",
    "\n",
    "total = 0\n",
    "for i in range(len(rucksacks)//3):\n",
    "    total+= priority(list(set(rucksacks[i*3])&set(rucksacks[i*3+1])&set(rucksacks[i*3+2]))[0])\n",
    "print(\"Part 2 : \", total)"
   ]
  },
  {
   "cell_type": "code",
   "execution_count": 4,
   "id": "eb5567f5",
   "metadata": {},
   "outputs": [
    {
     "name": "stdout",
     "output_type": "stream",
     "text": [
      "DAY 4 : Camp Cleanup\n",
      "Part 1 :  576\n",
      "Part 2 :  905\n"
     ]
    }
   ],
   "source": [
    "print(\"DAY 4 : Camp Cleanup\")\n",
    "\n",
    "pairs = []\n",
    "\n",
    "for line in open(\"inputs_2022/4.txt\"):\n",
    "    pairs.append([np.array(r.split(\"-\"), dtype=int) for r in line.split(\"\\n\")[0].split(\",\")])\n",
    "\n",
    "total = 0\n",
    "total2 = 0\n",
    "for pair in pairs:\n",
    "    elf0, elf1 = pair\n",
    "    if (elf0[0] <= elf1[0] and elf0[1] >= elf1[1]) or (elf1[0] <= elf0[0] and elf1[1] >= elf0[1]):\n",
    "        total+=1\n",
    "    if (elf0[0] <= elf1[1] and elf0[1] >= elf1[1]) or (elf1[0] <= elf0[1] and elf1[1] >= elf0[1]):\n",
    "        total2+=1\n",
    "print(\"Part 1 : \", total)\n",
    "print(\"Part 2 : \", total2)"
   ]
  },
  {
   "cell_type": "code",
   "execution_count": 5,
   "id": "62d34b15",
   "metadata": {},
   "outputs": [
    {
     "name": "stdout",
     "output_type": "stream",
     "text": [
      "DAY 5 : Supply Stacks\n",
      "Part 1 :  CWMTGHBDW\n",
      "Part 2 :  SSCGWJCRB\n"
     ]
    }
   ],
   "source": [
    "print(\"DAY 5 : Supply Stacks\")\n",
    "\n",
    "stacks_parser = [\"\" for i in range(9)]\n",
    "moves = []\n",
    "move_parser = False\n",
    "for line in open(\"inputs_2022/5.txt\"):\n",
    "    if line == \"\\n\":\n",
    "        move_parser = True\n",
    "    elif not move_parser:\n",
    "        for i, c in enumerate(line):\n",
    "            if c == \"[\":\n",
    "                stacks_parser[i//4]+=line[i+1]\n",
    "    elif move_parser:\n",
    "        amount = int(line.split(\"from\")[0].split(\"move\")[1])\n",
    "        source = int(line.split(\"to\")[0].split(\"from\")[1]) - 1\n",
    "        dest = int(line.split(\"\\n\")[0].split(\"to\")[1]) - 1\n",
    "        moves.append([amount,source,dest])\n",
    "for i in range(len(stacks_parser)):\n",
    "    stacks_parser[i] = stacks_parser[i][::-1]\n",
    "    \n",
    "stacks = stacks_parser.copy()\n",
    "stacks2 = stacks_parser.copy()\n",
    "for move in moves:\n",
    "    stacks[move[2]] += stacks[move[1]][-move[0]:][::-1]\n",
    "    stacks[move[1]] = stacks[move[1]][:-move[0]]\n",
    "    stacks2[move[2]] += stacks2[move[1]][-move[0]:]\n",
    "    stacks2[move[1]] = stacks2[move[1]][:-move[0]]\n",
    "\n",
    "code, code2 = \"\", \"\"\n",
    "for stack, stack2 in zip(stacks, stacks2):\n",
    "    code+=stack[-1]\n",
    "    code2+=stack2[-1]\n",
    "print(\"Part 1 : \", code)\n",
    "print(\"Part 2 : \", code2)"
   ]
  },
  {
   "cell_type": "code",
   "execution_count": 6,
   "id": "be4b2dad",
   "metadata": {},
   "outputs": [
    {
     "name": "stdout",
     "output_type": "stream",
     "text": [
      "DAY 6 : Tuning Trouble\n",
      "Part 1 :  1647\n",
      "Part 2 :  2447\n"
     ]
    }
   ],
   "source": [
    "print(\"DAY 6 : Tuning Trouble\")\n",
    "\n",
    "signal = open(\"inputs_2022/6.txt\").read()\n",
    "\n",
    "def get_start(signal, marker):\n",
    "    for i in range(len(signal)-marker):\n",
    "        if len(list(set(signal[i:i+marker]))) == marker:\n",
    "            return i+marker\n",
    "print(\"Part 1 : \", get_start(signal, 4))\n",
    "print(\"Part 2 : \", get_start(signal, 14))"
   ]
  },
  {
   "cell_type": "code",
   "execution_count": 7,
   "id": "3ded97d6",
   "metadata": {},
   "outputs": [
    {
     "name": "stdout",
     "output_type": "stream",
     "text": [
      "DAY 7 : No Space Left On Device\n",
      "Part 1 :  1749646\n",
      "Part 2 :  1498966\n"
     ]
    }
   ],
   "source": [
    "print(\"DAY 7 : No Space Left On Device\")\n",
    "\n",
    "terminal = []\n",
    "for line in open(\"inputs_2022/7.txt\"):\n",
    "    terminal.append(line.split(\"\\n\")[0])\n",
    "\n",
    "class directory:\n",
    "    def __init__(self, parent=None):\n",
    "        self.parent = parent\n",
    "        self.content = {}\n",
    "        self.size = 0\n",
    "    \n",
    "    def add_dir(self, s):\n",
    "        self.content[s.split(\" \")[1]] = directory(parent=self)\n",
    "        \n",
    "    def add_file(self, s):\n",
    "        self.size+=int(s.split(\" \")[0])\n",
    "    \n",
    "root = directory()\n",
    "current_directory = root\n",
    "for i, command in enumerate(terminal):\n",
    "    if command[0] == \"$\":\n",
    "        if command.split(\" \")[1] == \"cd\":\n",
    "            new_dir = command.split(\" \")[2]\n",
    "            if new_dir == \"/\":\n",
    "                current_directory = root\n",
    "            elif new_dir == \"..\":\n",
    "                current_directory = current_directory.parent\n",
    "            else:\n",
    "                current_directory = current_directory.content[new_dir]\n",
    "                \n",
    "        else:\n",
    "            j = i+1\n",
    "            while j < len(terminal) and terminal[j][0] != \"$\":\n",
    "                if terminal[j].startswith(\"dir\"):\n",
    "                    current_directory.add_dir(terminal[j])\n",
    "                else:\n",
    "                    current_directory.add_file(terminal[j])\n",
    "                j+=1\n",
    "                \n",
    "dir_sizes = []\n",
    "def part1(current_directory):\n",
    "    global dir_sizes\n",
    "    dir_size = current_directory.size + np.sum([part1(current_directory.content[d]) for d in current_directory.content])\n",
    "    dir_sizes.append(dir_size)\n",
    "    return dir_size\n",
    "required_space_deletion =  part1(root)- 40000000\n",
    "dir_sizes = np.array(dir_sizes)\n",
    "\n",
    "print(\"Part 1 : \", int(np.sum(dir_sizes[dir_sizes<=100000])))\n",
    "print(\"Part 2 : \", int(min(dir_sizes[dir_sizes>=required_space_deletion])))"
   ]
  },
  {
   "cell_type": "code",
   "execution_count": 8,
   "id": "39e593de",
   "metadata": {},
   "outputs": [
    {
     "name": "stdout",
     "output_type": "stream",
     "text": [
      "DAY 8 : Treetop Tree House\n",
      "Part 1 :  1789\n",
      "Part 2 :  314820\n"
     ]
    }
   ],
   "source": [
    "print(\"DAY 8 : Treetop Tree House\")\n",
    "\n",
    "treemap = []\n",
    "row=[]\n",
    "for line in open(\"inputs_2022/8.txt\"):\n",
    "    for c in line:\n",
    "        if c == \"\\n\":\n",
    "            treemap.append(row)\n",
    "            row=[]\n",
    "        else:\n",
    "            row.append(int(c))\n",
    "treemap.append(row)\n",
    "treemap = np.array(treemap)\n",
    "\n",
    "def is_visible(i, j):\n",
    "    return treemap[i,j] > np.max(treemap[i,j+1:]) or treemap[i,j] > np.max(treemap[i,:j]) or treemap[i,j] > np.max(treemap[i+1:,j]) or treemap[i,j] > np.max(treemap[:i,j])\n",
    "\n",
    "def scenic_score(i,j):\n",
    "    right=1\n",
    "    while j+right<len(treemap)-1 and treemap[i,j+right] <treemap[i,j]:\n",
    "        right+=1\n",
    "    left=1\n",
    "    while j-left > 0 and treemap[i,j-left] <treemap[i,j]:\n",
    "        left+=1\n",
    "    down=1\n",
    "    while i+down<len(treemap)-1 and treemap[i+down,j] <treemap[i,j]:\n",
    "        down+=1\n",
    "    up=1\n",
    "    while i-up > 0 and treemap[i-up,j] <treemap[i,j]:\n",
    "        up+=1\n",
    "    return right*left*down*up\n",
    "\n",
    "perimeter = np.sum(np.shape(treemap)) * 2 -4\n",
    "insiders = 0\n",
    "best_score = 0\n",
    "for i in range(1,len(treemap)-1):\n",
    "    for j in range(1,len(treemap)-1):\n",
    "        if is_visible(i,j):\n",
    "            insiders+=1\n",
    "        score = scenic_score(i,j)\n",
    "        if score > best_score:\n",
    "            best_score=score\n",
    "print(\"Part 1 : \", perimeter+insiders)\n",
    "print(\"Part 2 : \", best_score)"
   ]
  },
  {
   "cell_type": "code",
   "execution_count": 9,
   "id": "433d7d53",
   "metadata": {},
   "outputs": [
    {
     "name": "stdout",
     "output_type": "stream",
     "text": [
      "DAY 9 : Rope Bridge\n",
      "Part 1 :  6376\n",
      "Part 2 :  2607\n"
     ]
    }
   ],
   "source": [
    "print(\"DAY 9 : Rope Bridge\")\n",
    "\n",
    "commands = []\n",
    "for line in open(\"inputs_2022/9.txt\"):\n",
    "    commands.append([line.split(\" \")[0], int(line.split(\" \")[1].split(\"\\n\")[0])])\n",
    "    \n",
    "move = {\"R\": np.array([0,1]), \"L\" : np.array([0,-1]), \"D\":np.array([1,0]), \"U\":np.array([-1,0])}\n",
    "\n",
    "def update_tail(head, tail):\n",
    "    if tail[0] < head[0]-1:\n",
    "        if tail[1] < head[1]:\n",
    "            return [tail[0]+1, tail[1]+1]\n",
    "        elif tail[1] > head[1]:\n",
    "            return [tail[0]+1, tail[1]-1]\n",
    "        return [tail[0]+1, head[1]]\n",
    "    if head[0] + 1 < tail[0]:\n",
    "        if tail[1] < head[1]:\n",
    "            return [tail[0]-1, tail[1]+1]\n",
    "        elif tail[1] > head[1]:\n",
    "            return [tail[0]-1, tail[1]-1]\n",
    "        return [tail[0]-1, head[1]]\n",
    "    if tail[1] < head[1]-1:\n",
    "        if tail[0] < head[0]:\n",
    "            return [tail[0]+1, tail[1]+1]\n",
    "        elif tail[0] > head[0]:\n",
    "            return [tail[0]-1, tail[1]+1]\n",
    "        return [head[0], tail[1]+1]\n",
    "    if head[1] + 1 < tail[1]:\n",
    "        if tail[0] < head[0]:\n",
    "            return [tail[0]+1, tail[1]-1]\n",
    "        elif tail[0] > head[0]:\n",
    "            return [tail[0]-1, tail[1]-1]\n",
    "        return [head[0], tail[1]-1]\n",
    "    return tail\n",
    "\n",
    "def solver(tail_len):\n",
    "    visited = []\n",
    "    head = np.zeros(2)\n",
    "    tails = [[0,0] for i in range(tail_len)]\n",
    "    for command in commands:\n",
    "        way,distance = command\n",
    "        for j in range(distance):\n",
    "            head+=move[way]\n",
    "            tails[0] = update_tail(head, tails[0])\n",
    "            for i in range(len(tails)-1):\n",
    "                tails[i+1] = update_tail(tails[i], tails[i+1])\n",
    "\n",
    "            if tails[-1] not in visited:\n",
    "                visited.append(tails[-1])\n",
    "    return len(visited)\n",
    "print(\"Part 1 : \", solver(1))\n",
    "print(\"Part 2 : \", solver(9))"
   ]
  },
  {
   "cell_type": "code",
   "execution_count": 21,
   "id": "1430ab09",
   "metadata": {},
   "outputs": [
    {
     "name": "stdout",
     "output_type": "stream",
     "text": [
      "float    float64\n",
      "int       object\n",
      "dtype: object\n",
      "True\n"
     ]
    }
   ],
   "source": [
    "print(\"DAY 10 : \")"
   ]
  },
  {
   "cell_type": "code",
   "execution_count": 26,
   "id": "eaf90557",
   "metadata": {},
   "outputs": [
    {
     "name": "stdout",
     "output_type": "stream",
     "text": [
      "DAY 16 : Proboscidea Volcanium\n",
      "{'AA': {'BB', 'II', 'DD'}, 'BB': {'CC', 'AA'}, 'CC': {'BB', 'DD'}, 'DD': {'CC', 'EE', 'AA'}, 'EE': {'DD', 'FF'}, 'FF': {'EE', 'GG'}, 'GG': {'HH', 'FF'}, 'HH': {'GG'}, 'II': {'JJ', 'AA'}, 'JJ': {'II'}}\n",
      "{'AA': '0', 'BB': '13', 'CC': '2', 'DD': '20', 'EE': '3', 'FF': '0', 'GG': '0', 'HH': '22', 'II': '0', 'JJ': '21'}\n"
     ]
    }
   ],
   "source": [
    "import parse\n",
    "print(\"DAY 16 : Proboscidea Volcanium\")\n",
    "\n",
    "class Graph:\n",
    "    def __init__(self):\n",
    "        self.g = {}\n",
    "        \n",
    "    def add_edge(self, u, v):\n",
    "        #print(\"adding \"+str(v)+\" as neighbor of \"+str(u)+\" with dist \"+str(weight))\n",
    "        if u not in self.g:\n",
    "            self.g[u] = set(())\n",
    "        self.g[u].add(v)\n",
    "\n",
    "    def dijkstra(self, startingNode):\n",
    "        visited = set()\n",
    "        parentsMap = {}\n",
    "        pq = []\n",
    "        nodeCosts = defaultdict(lambda: float('inf'))\n",
    "        nodeCosts[startingNode] = 0\n",
    "        heap.heappush(pq, (0, startingNode))\n",
    "        while pq:\n",
    "            # go greedily by always extending the shorter cost nodes first\n",
    "            _, node = heap.heappop(pq)\n",
    "            visited.add(node)\n",
    "\n",
    "            for adjNode, weight in self.g[node].items():\n",
    "                if adjNode in visited:   continue\n",
    "\n",
    "                newCost = nodeCosts[node] + weight\n",
    "                if nodeCosts[adjNode] > newCost:\n",
    "                    parentsMap[adjNode] = node\n",
    "                    nodeCosts[adjNode] = newCost\n",
    "                    heap.heappush(pq, (newCost, adjNode))\n",
    "        \n",
    "        return parentsMap, nodeCosts\n",
    "\n",
    "#Valve AA has flow rate=0; tunnels lead to valves DD, II, BB\n",
    "p = parse.compile(\"Valve {} has flow rate={}; tunnels lead to valves {}\")\n",
    "p2 = parse.compile(\"Valve {} has flow rate={}; tunnel leads to valve {}\")\n",
    "g=Graph()\n",
    "valves = {}\n",
    "for line in open(\"inputs_2022/16.txt\"):\n",
    "    vals = p.parse(line.split(\"\\n\")[0])\n",
    "    if vals is None:\n",
    "        vals = p2.parse(line.split(\"\\n\")[0]).fixed\n",
    "    else:\n",
    "        vals = vals.fixed\n",
    "    valves[vals[0]] = vals[1]\n",
    "    for edge in vals[2].split(\", \"):\n",
    "        g.add_edge(vals[0], edge)\n",
    "print(g.g)\n",
    "print(valves)\n",
    "\n",
    "highest_pressures = np.zeros(30)\n",
    "\n",
    "def depressurize(node, highest_pressures, timer, current_pressure):\n",
    "    if valves[node] != 0:\n",
    "        if highest_pressures[30-timer] < current_pressure+(timer-1)*valves[node]:\n",
    "            highest_pressures[30-timer] = current_pressure+(timer-1)*valves[node]"
   ]
  },
  {
   "cell_type": "code",
   "execution_count": 19,
   "id": "0dfd0447",
   "metadata": {},
   "outputs": [
    {
     "name": "stdout",
     "output_type": "stream",
     "text": [
      "['EE']\n"
     ]
    }
   ],
   "source": [
    "print(\"EE\".split(\",\"))"
   ]
  },
  {
   "cell_type": "code",
   "execution_count": null,
   "id": "27a45776",
   "metadata": {},
   "outputs": [],
   "source": []
  }
 ],
 "metadata": {
  "kernelspec": {
   "display_name": "Python 3 (ipykernel)",
   "language": "python",
   "name": "python3"
  },
  "language_info": {
   "codemirror_mode": {
    "name": "ipython",
    "version": 3
   },
   "file_extension": ".py",
   "mimetype": "text/x-python",
   "name": "python",
   "nbconvert_exporter": "python",
   "pygments_lexer": "ipython3",
   "version": "3.9.2"
  }
 },
 "nbformat": 4,
 "nbformat_minor": 5
}
